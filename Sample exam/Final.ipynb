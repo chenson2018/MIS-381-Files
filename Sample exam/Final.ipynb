{
 "cells": [
  {
   "cell_type": "code",
   "execution_count": 1,
   "metadata": {},
   "outputs": [
    {
     "name": "stdout",
     "output_type": "stream",
     "text": [
      "Populating the interactive namespace from numpy and matplotlib\n"
     ]
    }
   ],
   "source": [
    "from pandas import Series, DataFrame\n",
    "import pandas as pd\n",
    "import re\n",
    "%pylab inline"
   ]
  },
  {
   "cell_type": "markdown",
   "metadata": {},
   "source": [
    "---\n",
    "The exam is set up as follows:\n",
    "* Q1 has 4 parts, of 3 points each\n",
    "* Q2-Q9: 4 points each\n",
    "* Q10-Q13: 7 points each\n",
    "* Q14-Q15: 9 points each\n",
    "* Q16: 10 points\n",
    "\n",
    "The exam is open-book, open-notes, open-Google. You have 3 hours. Best of luck!"
   ]
  },
  {
   "cell_type": "markdown",
   "metadata": {},
   "source": [
    "---\n",
    "## Question 1\n",
    "\n",
    "![splotches](splotches.png)\n",
    "\n",
    "Consider the above classification problem. For each question below, answer using a percentage or a fraction, and give a brief justification. You may assume that each blob has the same number of points.\n",
    "\n",
    "### [Q1a 3 points] What accuracy can a logistic regression classifier achieve?"
   ]
  },
  {
   "cell_type": "markdown",
   "metadata": {},
   "source": [
    "** Fill in **"
   ]
  },
  {
   "cell_type": "markdown",
   "metadata": {},
   "source": [
    "### [Q1b 3 points] What is the accuracy of a decision tree with max_depth=1?\n",
    "\n",
    "Recall that a depth-1 decision tree looks like this:\n",
    "![depth1](depth1.png)"
   ]
  },
  {
   "cell_type": "markdown",
   "metadata": {},
   "source": [
    "**Fill in**"
   ]
  },
  {
   "cell_type": "markdown",
   "metadata": {},
   "source": [
    "### [Q1c 3 points] Best extension to depth-2 tree.\n",
    "Suppose you could extend the max_depth=1 tree you built above by an extra level to build a max_depth=2 tree. For example, your new tree can look like one of the following, with \"Condition 1\" being the same as the \"Condition\" in the tree you built for question (b).\n",
    "\n",
    "<table border=0 padding=0><tr><td> ![depth2a](depth2a.png) </td><td> or </td><td> ![depth2b](depth2b.png) </td></tr></table>\n",
    "\n",
    "What is the best accuracy you can get?"
   ]
  },
  {
   "cell_type": "markdown",
   "metadata": {},
   "source": [
    "**Fill in**"
   ]
  },
  {
   "cell_type": "markdown",
   "metadata": {},
   "source": [
    "### [Q1d 3 points] What is the best accuracy possible using a max_depth=2 decision tree?\n",
    "\n",
    "You are allowed to use any settings for Conditions 1, 2, and 3."
   ]
  },
  {
   "cell_type": "markdown",
   "metadata": {},
   "source": [
    "**Fill in**"
   ]
  },
  {
   "cell_type": "markdown",
   "metadata": {},
   "source": [
    "---\n",
    "\n",
    "We will analyze a dataset about political consultants and the clients they work for. Each row records the particulars of one particular consultant working for one client in one reporting period. Here, we will describe some of the important columns:\n",
    "* **Reporting Period, Year, and Filing Date**: Political consultants must file records about the people they work for in every reporting period, e.g., July 1 - December 31. The year is self-explanatory. The \"Filing Date\" records the date on which the report was filed.\n",
    "* **Filing Type, Correction Type**: This specifies the kind of report being filed. If the Filing Type was CORRECTION, the Correction Type is noted.\n",
    "* **Political Consultant (PC) Name, PC Business Name**: The name of the dude doing the work, and the consulting company that he or she works for.\n",
    "* **Client Name, Client Type**: The name of the person or entity for whom the consultant is working, and the type of person or entity, e.g., \"public official\".\n",
    "* **Office Held/Sought**: The particulars of the public office that the client currently holds, or hopes to contest.\n",
    "* **Description of Services Provided**: What exactly is the consultant doing for the client?"
   ]
  },
  {
   "cell_type": "code",
   "execution_count": 2,
   "metadata": {},
   "outputs": [
    {
     "data": {
      "text/plain": [
       "Year                                                                                     2016\n",
       "Reporting Period                                                         JULY 1 - DECEMBER 31\n",
       "Filing Date                                                               2017-02-03T00:00:00\n",
       "Filing Record Identifier                                                  PCF-201701241000002\n",
       "Filing Type                                                                 PUBLIC DISCLOSURE\n",
       "Correction Type                                                                           NaN\n",
       "Political Consultant (PC) Name                                             MIRANDA, LUIS A JR\n",
       "PC Business Name                                                             MIRRAM GROUP LLC\n",
       "PC Business Address 1                                              215 PARK AVE SOUTH 15TH FL\n",
       "PC Business City                                                                     NEW YORK\n",
       "PC Business State                                                                    NEW YORK\n",
       "PC Business Zip Code                                                                    10003\n",
       "PC Business County                                                                   NEW YORK\n",
       "PC Business Country                                                             UNITED STATES\n",
       "PC Business Telephone Number                                                     212-544-2200\n",
       "Client Type                                                         PUBLIC OFFICIAL/CANDIDATE\n",
       "Client Name                                                              ALCANTARA, MARISOL  \n",
       "Office Held/Sought                                                  NYS SENATE 31ST DISTRICT \n",
       "Client Business Address 1                                                       5030 BROADWAY\n",
       "Client Business City                                                                 NEW YORK\n",
       "Client Business State                                                                NEW YORK\n",
       "Client Business Zip Code                                                                10034\n",
       "Client Business Country                                                         UNITED STATES\n",
       "Client Business Telephone Number                                                 212-304-0200\n",
       "Name of Person with Controlling Interest in Business                                      NaN\n",
       "Description of Services Provided                        DIRECT VOTER CONTACT - MAIL AND MEDIA\n",
       "Registration ID                                                            PC-201701241000002\n",
       "Reporting Period ID                                                                         2\n",
       "Name: 0, dtype: object"
      ]
     },
     "execution_count": 2,
     "metadata": {},
     "output_type": "execute_result"
    }
   ],
   "source": [
    "df = pd.read_csv('consultant.csv')\n",
    "df.iloc[0]"
   ]
  },
  {
   "cell_type": "markdown",
   "metadata": {},
   "source": [
    "### [Q2 4 points] What are the different types of \"Filing Type\"?"
   ]
  },
  {
   "cell_type": "code",
   "execution_count": null,
   "metadata": {},
   "outputs": [],
   "source": []
  },
  {
   "cell_type": "markdown",
   "metadata": {},
   "source": [
    "### [Q3 4 points] Among the rows where \"Filing Type\" equals CORRECTION, what fraction have a valid \"Correction Type\"?\n",
    "\n",
    "The Correction Type entry is valid if it is not missing."
   ]
  },
  {
   "cell_type": "code",
   "execution_count": null,
   "metadata": {},
   "outputs": [],
   "source": []
  },
  {
   "cell_type": "markdown",
   "metadata": {},
   "source": [
    "### [Q4 4 points] Is it true that whenever \"Correction Type\" has valid (non-missing) entries, then the \"Filing Type\" is CORRECTION?"
   ]
  },
  {
   "cell_type": "code",
   "execution_count": null,
   "metadata": {},
   "outputs": [],
   "source": []
  },
  {
   "cell_type": "markdown",
   "metadata": {},
   "source": [
    "### [Q5 4 points] Convert the DataFrame into a time series with Filing Date as the index.\n",
    "\n",
    "Make sure the index is of type \"datetime\" and not \"string\". Also remember to sort the dates."
   ]
  },
  {
   "cell_type": "code",
   "execution_count": null,
   "metadata": {},
   "outputs": [],
   "source": []
  },
  {
   "cell_type": "markdown",
   "metadata": {},
   "source": [
    "### [Q6 4 points] When the \"Client Type\" is \"PUBLIC OFFICIAL/CANDIDATE\", who are the top 10 most frequently mentioned clients (\"Client Name\")?"
   ]
  },
  {
   "cell_type": "code",
   "execution_count": null,
   "metadata": {},
   "outputs": [],
   "source": []
  },
  {
   "cell_type": "markdown",
   "metadata": {},
   "source": [
    "### [Q7 4 points] Which 5 political offices (\"Office Held/Sought\") attract the most number of clients (\"Client Name\")?"
   ]
  },
  {
   "cell_type": "code",
   "execution_count": null,
   "metadata": {},
   "outputs": [],
   "source": []
  },
  {
   "cell_type": "markdown",
   "metadata": {},
   "source": [
    "### [Q8 4 points] \"PAID COMMUNICATIONS\" and \"FIELD SERVICES\".\n",
    "\n",
    "Under \"Description of Services Provided\", you will find many strings containing the words \"PAID COMMUNICATIONS\" and also the words \"FIELD SERVICES\". Find all the different ways in which these services are described.\n",
    "* For example, you may find \"PAID COMMUNICATIONS & FIELD SERVICES\" and \"PAID COMMUNICATIONS AND FIELD SERVICES\".\n",
    "* What other variants are there?\n",
    "* NOTE: There are descriptions called just \"PAID COMMUNICATIONS\", that don't include \"FIELD SERVICES.\" We are not talking about these."
   ]
  },
  {
   "cell_type": "code",
   "execution_count": null,
   "metadata": {},
   "outputs": [],
   "source": []
  },
  {
   "cell_type": "markdown",
   "metadata": {},
   "source": [
    "### [Q9 4 points] Who uses the most different consultant companies?\n",
    "\n",
    "A candidate can have many different political consultants, but they may be from the same company. For each \"Client Name\" whose \"Client Type\" is \"PUBLIC OFFICIAL/CANDIDATE\", find out the number of unique consulting companies (\"PC Business Name\") with whom he or she has engaged. Print out the top 10 client names who have engaged with the most consulting companies."
   ]
  },
  {
   "cell_type": "code",
   "execution_count": null,
   "metadata": {},
   "outputs": [],
   "source": []
  },
  {
   "cell_type": "markdown",
   "metadata": {},
   "source": [
    "### [Q10 7 points] Plot the top 10  \"Description of Services Provided\", after cleaning up these descriptions.\n",
    "\n",
    "As we saw with \"PAID COMMUNICATIONS\" and , there are many ways of saying the same thing. So, we will try to come up with canonical descriptions.\n",
    "\n",
    "For each string under \"Description of Services Provided\", do the following steps (in this particular order):\n",
    "* Remove any spaces from the beginning of the string\n",
    "* Remove any spaces at the end of the string\n",
    "* Remove any full-stop ('.') at the end of the string\n",
    "\n",
    "Store these cleaned description in a new column called \"Cleaned Descriptions\", and plot the top 10 most frequent \"Cleaned Descriptions\"."
   ]
  },
  {
   "cell_type": "code",
   "execution_count": null,
   "metadata": {},
   "outputs": [],
   "source": []
  },
  {
   "cell_type": "markdown",
   "metadata": {},
   "source": [
    "### [Q11 7 points] Plot the number of filings for each month in the dataset.\n",
    "\n",
    "The x-axis should go from Jan 2017 to July 2018. Use the \"Filing Date\" as the date of filing."
   ]
  },
  {
   "cell_type": "code",
   "execution_count": null,
   "metadata": {},
   "outputs": [],
   "source": []
  },
  {
   "cell_type": "markdown",
   "metadata": {},
   "source": [
    "### [Q12 7 points] What are the programs where consultants help with media relations and messaging support?\n",
    "\n",
    "In the \"Cleaned Descriptions\", you will find several strings of the form \"MEDIA RELATIONS AND MESSAGING SUPPORT\". Each such string lists the \"program\" which is getting the support. For example:\n",
    "* MEDIA RELATIONS AND MESSAGING SUPPORT FOR PACIFIC PARK BROOKLYN\n",
    "    * The program is \"FOR PACIFIC PARK BROOKLYN\"\n",
    "* MEDIA RELATIONS AND MESSAGING SUPPORT FOR LINKNYC\n",
    "    * The program is \"FOR LINKNYC\"\n",
    "* MEDIA RELATIONS AND MESSAGING SUPPORT AROUND FREELANCER ISSUES\n",
    "    * The program is \"AROUND FREELANCER ISSUES\"\n",
    "\n",
    "Print out all the unique programs getting such public relations support.\n",
    "\n",
    "**NOTE**: If you were unable to compute the Cleaned Descriptions in Q10, just say so in a comment, and use\n",
    "> df['Cleaned Descriptions'] = df['Description of Services Provided']"
   ]
  },
  {
   "cell_type": "code",
   "execution_count": null,
   "metadata": {},
   "outputs": [],
   "source": []
  },
  {
   "cell_type": "markdown",
   "metadata": {},
   "source": [
    "### [Q13 7 points] Unique senate districts.\n",
    "\n",
    "Consider all \"Office Held/Sought\" fields of the form \"NYS SENATE *blah* DISTRICT\". Extract the district identifier (*blah*) and figure out the number of unique districts represented in the data. For example:\n",
    "* \"NYS SENATE 31ST DISTRICT\" $\\Rightarrow$ district identifier is \"31ST\""
   ]
  },
  {
   "cell_type": "code",
   "execution_count": null,
   "metadata": {},
   "outputs": [],
   "source": []
  },
  {
   "cell_type": "markdown",
   "metadata": {},
   "source": [
    "### [Q14 9 points] Find clients who hire multiple consultant firms for the same job.\n",
    "\n",
    "For each pair of \"Client Name\" and \"Cleaned Descriptions\", figure out the number of unique \"PC Business Names\" who have done work of that description for that client. List the clients who had 4 or more PC Businesses work on some \"Cleaned Description.\"\n",
    "For example:\n",
    "* If client BILL BLASIO had 3 consulting firms for \"DIRECT VOTER CONTACT\", 2 firms for \"DIRECT MAIL\" and 5 firms for \"PAID COMMUNICATIONS\", we want to list BILL BLASIO in the output since \"PAID COMMUNICATIONS\" had 5 firms.\n",
    "* If client ERIC GONZALEZ had 3 firms for \"DIRECT VOTER CONTACT\" and 3 firms for \"DIRECT MAIL\", we won't output ERIC GONZALEZ since all Cleaned Descriptions had fewer than 4 associated firms."
   ]
  },
  {
   "cell_type": "code",
   "execution_count": null,
   "metadata": {},
   "outputs": [],
   "source": []
  },
  {
   "cell_type": "markdown",
   "metadata": {},
   "source": [
    "### [Q15 9 points] Busy seasons\n",
    "\n",
    "For each \"Political Consultant (PC) Name\", do the following:\n",
    "* Figure out the number of unique Client Names associated with this Political Consultant (PC) Name in each Reporting Period.\n",
    "* Find the Reporting Period when he/she had the most unique Client Names. Call this the \"busy season\" for this particular Political Consultant.\n",
    "\n",
    "Now, for each Reporting Period, figure out how many Political Consultant (PC) Names call it their busy season.\n",
    "\n",
    "Note: A Political Consultant may do multiple jobs for a given Client in each Reporting Period."
   ]
  },
  {
   "cell_type": "code",
   "execution_count": null,
   "metadata": {},
   "outputs": [],
   "source": []
  },
  {
   "cell_type": "markdown",
   "metadata": {},
   "source": [
    "### [Q16 10 points] Connections between public officials and businesses\n",
    "\n",
    "Let's say a politician P and a business B are *connected* if there is a consultant firm C that is consulting for both P and B. If there is only one such consulting firm, the \"strength\" of the connection is 1. If there are two different consulting firms consulting for both P and B, the strength of the connection between P and B is 2, and so on. If the same consultant firm is linked to P and B in two different \"Reporting Periods\", that still counts as 1 when computing connection strength between P and B.\n",
    "\n",
    "Find the public official and the business with the strongest connection.\n",
    "\n",
    "Note: A politician has \"Client Type\" as \"PUBLIC OFFICIAL/CANDIDATE\", while every other \"Client Type\" is a business. The consultant firm is specified by \"PC Business Name\"."
   ]
  },
  {
   "cell_type": "code",
   "execution_count": null,
   "metadata": {},
   "outputs": [],
   "source": []
  }
 ],
 "metadata": {
  "kernelspec": {
   "display_name": "Python 2",
   "language": "python",
   "name": "python2"
  },
  "language_info": {
   "codemirror_mode": {
    "name": "ipython",
    "version": 2
   },
   "file_extension": ".py",
   "mimetype": "text/x-python",
   "name": "python",
   "nbconvert_exporter": "python",
   "pygments_lexer": "ipython2",
   "version": "2.7.15"
  }
 },
 "nbformat": 4,
 "nbformat_minor": 2
}
