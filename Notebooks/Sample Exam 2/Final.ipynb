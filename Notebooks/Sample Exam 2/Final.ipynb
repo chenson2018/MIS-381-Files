{
 "cells": [
  {
   "cell_type": "code",
   "execution_count": 1,
   "metadata": {},
   "outputs": [
    {
     "name": "stdout",
     "output_type": "stream",
     "text": [
      "Populating the interactive namespace from numpy and matplotlib\n"
     ]
    }
   ],
   "source": [
    "from pandas import Series, DataFrame\n",
    "import pandas as pd\n",
    "%pylab inline\n",
    "import re"
   ]
  },
  {
   "cell_type": "markdown",
   "metadata": {},
   "source": [
    "There are 12 questions in the exam:\n",
    "* Q1: 10 points, with 2 parts\n",
    "* Q2: 4 points\n",
    "* Q3-5: 6 points each\n",
    "* Q6-8: 8 points each\n",
    "* Q9-12: 11 points each\n",
    "---"
   ]
  },
  {
   "cell_type": "markdown",
   "metadata": {},
   "source": [
    "### [Q1 10 points] Classify green from red\n",
    "\n",
    "![splotches](splotches.png)\n",
    "\n",
    "Consider the above classification problem. For each question below, answer using a percentage or a fraction, and give a brief justification. You may assume that each splotch has the same number of points.\n",
    "\n",
    "#### (a) What accuracy can a decision tree get on this data?"
   ]
  },
  {
   "cell_type": "markdown",
   "metadata": {},
   "source": []
  },
  {
   "cell_type": "markdown",
   "metadata": {},
   "source": [
    "#### (b) What accuracy can logistic regression get on this data?"
   ]
  },
  {
   "cell_type": "markdown",
   "metadata": {},
   "source": []
  },
  {
   "cell_type": "markdown",
   "metadata": {},
   "source": [
    "### [Q2 4 points] Read in the files\n",
    "\n",
    "There are three files:\n",
    "* data.tsv: containing ratings given by users to movies\n",
    "* item.tsv: containing information about each movie\n",
    "* user.tsv: containing information about each user.\n",
    "\n",
    "You have to fill in the correct separator in the code below."
   ]
  },
  {
   "cell_type": "code",
   "execution_count": 5,
   "metadata": {
    "collapsed": true
   },
   "outputs": [],
   "source": [
    "# You may need to use the list of genres later, so we define it here.\n",
    "genres = ['unknown', 'Action', 'Adventure', 'Animation', 'Childrens', 'Comedy', 'Crime', 'Documentary', 'Drama', \\\n",
    "          'Fantasy', 'Film Noir', 'Horror', 'Musical', 'Mystery', 'Romance', 'Sci-Fi', 'Thriller', 'War', 'Western']"
   ]
  },
  {
   "cell_type": "code",
   "execution_count": 6,
   "metadata": {
    "collapsed": true
   },
   "outputs": [],
   "source": [
    "df_data = pd.read_csv('data.tsv', sep='????', names=['userid', 'itemid', 'rating', 'timestamp'])\n",
    "df_item = pd.read_csv('item.tsv', sep='????', names=['itemid', 'movietitle', 'releasedate', 'videoreleasedate', 'IMDB_URL'] + genres)\n",
    "df_user = pd.read_csv('user.tsv', sep='????', names=['userid', 'age', 'gender', 'occupation', 'zipcode'])"
   ]
  },
  {
   "cell_type": "markdown",
   "metadata": {},
   "source": [
    "### [Q3 6 points] How many movies have a valid video release date?"
   ]
  },
  {
   "cell_type": "code",
   "execution_count": null,
   "metadata": {},
   "outputs": [],
   "source": []
  },
  {
   "cell_type": "markdown",
   "metadata": {},
   "source": [
    "### [Q4 6 points] Plot the distribution of ratings, **sorted by rating**. \n",
    "\n",
    "Show a bar plot, where the x-axis is ratings from 1 to 5, and the y-axis is the number of such ratings."
   ]
  },
  {
   "cell_type": "code",
   "execution_count": null,
   "metadata": {},
   "outputs": [],
   "source": []
  },
  {
   "cell_type": "markdown",
   "metadata": {},
   "source": [
    "### [Q5 6 points] Genre-spanners bar plot\n",
    "\n",
    "Some movies belong to multiple genres. Create a bar plot where the x-axis is the number of genres, and the y-axis is the number of movies which span so many genres.\n",
    "\n",
    "You should **not** need to manually list all the genres; you can use the **genres** list we created in Q1."
   ]
  },
  {
   "cell_type": "code",
   "execution_count": null,
   "metadata": {},
   "outputs": [],
   "source": []
  },
  {
   "cell_type": "markdown",
   "metadata": {},
   "source": [
    "### [Q6 8 points] Strange names\n",
    "\n",
    "Some movies have names like \"GoldenEye\" with no space in between \"Golden\" and \"Eye\". Print out the movie names where this happens, that is, where a capital letter is preceded by a lowercase letter."
   ]
  },
  {
   "cell_type": "code",
   "execution_count": null,
   "metadata": {},
   "outputs": [],
   "source": []
  },
  {
   "cell_type": "markdown",
   "metadata": {},
   "source": [
    "### [Q7 8 points] Plot the number of movies per year, for the top 10 years with the most movies.\n",
    "\n",
    "You will have to extract the year."
   ]
  },
  {
   "cell_type": "code",
   "execution_count": null,
   "metadata": {},
   "outputs": [],
   "source": []
  },
  {
   "cell_type": "markdown",
   "metadata": {},
   "source": [
    "### [Q8 8 points] Consider the first word in the movie titles. Find the 10 most common first words, considering only those movies where the first word is at least 4 characters long (so we avoid movies starting with \"A blah blah\")"
   ]
  },
  {
   "cell_type": "code",
   "execution_count": null,
   "metadata": {},
   "outputs": [],
   "source": []
  },
  {
   "cell_type": "markdown",
   "metadata": {},
   "source": [
    "### [Q9 11 points] For each movie, calculate its average rating, and plot a histogram of these ratings.\n",
    "\n",
    "Create a new column in df_item containing the mean rating of each movie."
   ]
  },
  {
   "cell_type": "code",
   "execution_count": null,
   "metadata": {},
   "outputs": [],
   "source": []
  },
  {
   "cell_type": "markdown",
   "metadata": {},
   "source": [
    "### [Q10 11 points] For each genre, calculate the number of ratings given by men (women) for movies of that genre. Normalize this by the total number of ratings given by men (women). Then, for each genre, figure out who rates it the most.\n",
    "\n",
    "* Ideally, your code should just use 'gender', not 'M' and 'F' specifically.\n",
    "* For movies like Toy Story which belong to multiple genres, a rating for Toy Story counts as a rating for each of those genres.\n",
    "* Note that we care only about the number of ratings, not whether the rating was high or low."
   ]
  },
  {
   "cell_type": "code",
   "execution_count": null,
   "metadata": {},
   "outputs": [],
   "source": []
  },
  {
   "cell_type": "markdown",
   "metadata": {},
   "source": [
    "### [Q11 11 points] Find binge raters (or, maybe, just bots).\n",
    "\n",
    "A binge rater is some user who submits lots of ratings in a short time period.\n",
    "\n",
    "* Break up the timestamps (in seconds) into 1-hour periods (i.e., periods of 3600 seconds)\n",
    "    * E.g., timestamps 123450000 to 123453600 go to the same 1-hour period.\n",
    "    * Timestamps 123453600 to 123457200 go to the next 1-hour period, and so on.\n",
    "* For each user, figure out the mean number of rating submissions over these 1-hour periods.\n",
    "    * While doing this calculation, ignore any 1-hour periods where they didn't submit any rating\n",
    "    * E.g., if, over the course of five 1-hr periods, a user submitted 20, 40, 0, 0, 30 ratings, then his average is (20 + 40 + 30) / 3 = 30.0\n",
    "* Plot a histogram of the mean-ratings-per-hour of the users."
   ]
  },
  {
   "cell_type": "code",
   "execution_count": null,
   "metadata": {},
   "outputs": [],
   "source": []
  },
  {
   "cell_type": "markdown",
   "metadata": {},
   "source": [
    "### [Q12 11 points] Predict average rating from movie genres\n",
    "\n",
    "We will try to predict if a movie's average rating is  > 3.5 or <= 3.5, using its genres as features.\n",
    "\n",
    "Split the movies into 70% training and 30% testing set. Fit a logistic regression classifier to the training movies. Then print out the training and testing accuracies of this classifier. How does classification accuracy compare to the baseline classifier?"
   ]
  },
  {
   "cell_type": "code",
   "execution_count": null,
   "metadata": {},
   "outputs": [],
   "source": []
  }
 ],
 "metadata": {
  "kernelspec": {
   "display_name": "Python 2",
   "language": "python",
   "name": "python2"
  },
  "language_info": {
   "codemirror_mode": {
    "name": "ipython",
    "version": 2
   },
   "file_extension": ".py",
   "mimetype": "text/x-python",
   "name": "python",
   "nbconvert_exporter": "python",
   "pygments_lexer": "ipython2",
   "version": "2.7.15"
  }
 },
 "nbformat": 4,
 "nbformat_minor": 2
}
