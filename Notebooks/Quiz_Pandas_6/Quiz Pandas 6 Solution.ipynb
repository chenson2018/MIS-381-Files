{
 "cells": [
  {
   "cell_type": "code",
   "execution_count": 2,
   "metadata": {},
   "outputs": [
    {
     "name": "stdout",
     "output_type": "stream",
     "text": [
      "Populating the interactive namespace from numpy and matplotlib\n"
     ]
    }
   ],
   "source": [
    "from pandas import Series, DataFrame\n",
    "import pandas as pd\n",
    "%pylab inline"
   ]
  },
  {
   "cell_type": "code",
   "execution_count": 3,
   "metadata": {},
   "outputs": [
    {
     "data": {
      "text/html": [
       "<div>\n",
       "<style scoped>\n",
       "    .dataframe tbody tr th:only-of-type {\n",
       "        vertical-align: middle;\n",
       "    }\n",
       "\n",
       "    .dataframe tbody tr th {\n",
       "        vertical-align: top;\n",
       "    }\n",
       "\n",
       "    .dataframe thead th {\n",
       "        text-align: right;\n",
       "    }\n",
       "</style>\n",
       "<table border=\"1\" class=\"dataframe\">\n",
       "  <thead>\n",
       "    <tr style=\"text-align: right;\">\n",
       "      <th></th>\n",
       "      <th>Year</th>\n",
       "      <th>Month</th>\n",
       "      <th>jobs</th>\n",
       "    </tr>\n",
       "  </thead>\n",
       "  <tbody>\n",
       "    <tr>\n",
       "      <th>0</th>\n",
       "      <td>1939</td>\n",
       "      <td>Jan</td>\n",
       "      <td>912.0</td>\n",
       "    </tr>\n",
       "    <tr>\n",
       "      <th>1</th>\n",
       "      <td>1940</td>\n",
       "      <td>Jan</td>\n",
       "      <td>980.0</td>\n",
       "    </tr>\n",
       "    <tr>\n",
       "      <th>2</th>\n",
       "      <td>1941</td>\n",
       "      <td>Jan</td>\n",
       "      <td>1201.0</td>\n",
       "    </tr>\n",
       "    <tr>\n",
       "      <th>3</th>\n",
       "      <td>1942</td>\n",
       "      <td>Jan</td>\n",
       "      <td>1756.0</td>\n",
       "    </tr>\n",
       "    <tr>\n",
       "      <th>4</th>\n",
       "      <td>1943</td>\n",
       "      <td>Jan</td>\n",
       "      <td>2956.0</td>\n",
       "    </tr>\n",
       "  </tbody>\n",
       "</table>\n",
       "</div>"
      ],
      "text/plain": [
       "   Year Month    jobs\n",
       "0  1939   Jan   912.0\n",
       "1  1940   Jan   980.0\n",
       "2  1941   Jan  1201.0\n",
       "3  1942   Jan  1756.0\n",
       "4  1943   Jan  2956.0"
      ]
     },
     "execution_count": 3,
     "metadata": {},
     "output_type": "execute_result"
    }
   ],
   "source": [
    "df = pd.read_csv('jobs.csv')\n",
    "df[:5]"
   ]
  },
  {
   "cell_type": "markdown",
   "metadata": {},
   "source": [
    "### Convert this data into a time series\n",
    "\n",
    "* First, convert the Year to a string\n",
    "    * df['Year'] = df['Year'].astype(str)\n",
    "* Then, create a column called \"DateString\" of the form \"Jan 2011\" (i.e., Month followed by Year, with a space in between)\n",
    "* Convert this to the Pandas datetime format and save it in a column called \"Date\"\n",
    "    * See pd.to_datetime(df['DateString'])\n",
    "* Sort the DataFrame so that the dates are in increasing order, and then set Date as the index."
   ]
  },
  {
   "cell_type": "code",
   "execution_count": 4,
   "metadata": {},
   "outputs": [],
   "source": [
    "df['Year'] = df['Year'].astype(str)\n",
    "df['DateString'] = df['Month'] + ' ' + df['Year']\n",
    "df['Date']= pd.to_datetime(df['DateString'])\n",
    "df2 = df.sort_values(by='Date').set_index('Date')"
   ]
  },
  {
   "cell_type": "markdown",
   "metadata": {},
   "source": [
    "### Plot the jobs numbers as a time series\n",
    "\n",
    "Also plot the 1-year and 5-year moving averages.\n",
    "Label these appropriately in a legend."
   ]
  },
  {
   "cell_type": "code",
   "execution_count": 5,
   "metadata": {},
   "outputs": [
    {
     "data": {
      "text/plain": [
       "<matplotlib.legend.Legend at 0x18815390>"
      ]
     },
     "execution_count": 5,
     "metadata": {},
     "output_type": "execute_result"
    },
    {
     "data": {
      "image/png": "[encoded data removed]",
      "text/plain": [
       "<Figure size 432x288 with 1 Axes>"
      ]
     },
     "metadata": {
      "needs_background": "light"
     },
     "output_type": "display_data"
    }
   ],
   "source": [
    "df2['jobs'].plot(label='jobs')\n",
    "df2['jobs'].rolling(window=12).mean().plot(label='1 year Moving Avg')\n",
    "df2['jobs'].rolling(window=12*5).mean().plot(label='5 year Moving Avg')\n",
    "legend(loc='best')"
   ]
  },
  {
   "cell_type": "markdown",
   "metadata": {},
   "source": [
    "### Deviations from moving average\n",
    "\n",
    "Find the dates where the jobs number was at least 500 more than the 1-year moving average"
   ]
  },
  {
   "cell_type": "code",
   "execution_count": 6,
   "metadata": {},
   "outputs": [
    {
     "data": {
      "text/html": [
       "<div>\n",
       "<style scoped>\n",
       "    .dataframe tbody tr th:only-of-type {\n",
       "        vertical-align: middle;\n",
       "    }\n",
       "\n",
       "    .dataframe tbody tr th {\n",
       "        vertical-align: top;\n",
       "    }\n",
       "\n",
       "    .dataframe thead th {\n",
       "        text-align: right;\n",
       "    }\n",
       "</style>\n",
       "<table border=\"1\" class=\"dataframe\">\n",
       "  <thead>\n",
       "    <tr style=\"text-align: right;\">\n",
       "      <th></th>\n",
       "      <th>Year</th>\n",
       "      <th>Month</th>\n",
       "      <th>jobs</th>\n",
       "      <th>DateString</th>\n",
       "    </tr>\n",
       "    <tr>\n",
       "      <th>Date</th>\n",
       "      <th></th>\n",
       "      <th></th>\n",
       "      <th></th>\n",
       "      <th></th>\n",
       "    </tr>\n",
       "  </thead>\n",
       "  <tbody>\n",
       "    <tr>\n",
       "      <th>1942-08-01</th>\n",
       "      <td>1942</td>\n",
       "      <td>Aug</td>\n",
       "      <td>2583.0</td>\n",
       "      <td>Aug 1942</td>\n",
       "    </tr>\n",
       "    <tr>\n",
       "      <th>1942-09-01</th>\n",
       "      <td>1942</td>\n",
       "      <td>Sep</td>\n",
       "      <td>2630.0</td>\n",
       "      <td>Sep 1942</td>\n",
       "    </tr>\n",
       "    <tr>\n",
       "      <th>1942-10-01</th>\n",
       "      <td>1942</td>\n",
       "      <td>Oct</td>\n",
       "      <td>2734.0</td>\n",
       "      <td>Oct 1942</td>\n",
       "    </tr>\n",
       "    <tr>\n",
       "      <th>1942-11-01</th>\n",
       "      <td>1942</td>\n",
       "      <td>Nov</td>\n",
       "      <td>2825.0</td>\n",
       "      <td>Nov 1942</td>\n",
       "    </tr>\n",
       "    <tr>\n",
       "      <th>1943-01-01</th>\n",
       "      <td>1943</td>\n",
       "      <td>Jan</td>\n",
       "      <td>2956.0</td>\n",
       "      <td>Jan 1943</td>\n",
       "    </tr>\n",
       "    <tr>\n",
       "      <th>1943-02-01</th>\n",
       "      <td>1943</td>\n",
       "      <td>Feb</td>\n",
       "      <td>3027.0</td>\n",
       "      <td>Feb 1943</td>\n",
       "    </tr>\n",
       "    <tr>\n",
       "      <th>2010-05-01</th>\n",
       "      <td>2010</td>\n",
       "      <td>May</td>\n",
       "      <td>3416.0</td>\n",
       "      <td>May 2010</td>\n",
       "    </tr>\n",
       "  </tbody>\n",
       "</table>\n",
       "</div>"
      ],
      "text/plain": [
       "            Year Month    jobs DateString\n",
       "Date                                     \n",
       "1942-08-01  1942   Aug  2583.0   Aug 1942\n",
       "1942-09-01  1942   Sep  2630.0   Sep 1942\n",
       "1942-10-01  1942   Oct  2734.0   Oct 1942\n",
       "1942-11-01  1942   Nov  2825.0   Nov 1942\n",
       "1943-01-01  1943   Jan  2956.0   Jan 1943\n",
       "1943-02-01  1943   Feb  3027.0   Feb 1943\n",
       "2010-05-01  2010   May  3416.0   May 2010"
      ]
     },
     "execution_count": 6,
     "metadata": {},
     "output_type": "execute_result"
    }
   ],
   "source": [
    "df2[df2['jobs'] >= df2['jobs'].rolling(window=12).mean() + 500]"
   ]
  },
  {
   "cell_type": "markdown",
   "metadata": {},
   "source": [
    "### Another kind of deviation\n",
    "\n",
    "Find the dates where the jobs number was at least 500 more than the jobs number 1 year earlier **and** at least 500 more than the number 1 year later."
   ]
  },
  {
   "cell_type": "code",
   "execution_count": 33,
   "metadata": {},
   "outputs": [
    {
     "data": {
      "text/html": [
       "<div>\n",
       "<style scoped>\n",
       "    .dataframe tbody tr th:only-of-type {\n",
       "        vertical-align: middle;\n",
       "    }\n",
       "\n",
       "    .dataframe tbody tr th {\n",
       "        vertical-align: top;\n",
       "    }\n",
       "\n",
       "    .dataframe thead th {\n",
       "        text-align: right;\n",
       "    }\n",
       "</style>\n",
       "<table border=\"1\" class=\"dataframe\">\n",
       "  <thead>\n",
       "    <tr style=\"text-align: right;\">\n",
       "      <th></th>\n",
       "      <th>Year</th>\n",
       "      <th>Month</th>\n",
       "      <th>jobs</th>\n",
       "      <th>DateString</th>\n",
       "    </tr>\n",
       "    <tr>\n",
       "      <th>Date</th>\n",
       "      <th></th>\n",
       "      <th></th>\n",
       "      <th></th>\n",
       "      <th></th>\n",
       "    </tr>\n",
       "  </thead>\n",
       "  <tbody>\n",
       "    <tr>\n",
       "      <th>2010-05-01</th>\n",
       "      <td>2010</td>\n",
       "      <td>May</td>\n",
       "      <td>3416.0</td>\n",
       "      <td>May 2010</td>\n",
       "    </tr>\n",
       "  </tbody>\n",
       "</table>\n",
       "</div>"
      ],
      "text/plain": [
       "            Year Month    jobs DateString\n",
       "Date                                     \n",
       "2010-05-01  2010   May  3416.0   May 2010"
      ]
     },
     "execution_count": 33,
     "metadata": {},
     "output_type": "execute_result"
    }
   ],
   "source": [
    "df2[(df2['jobs'] > df2['jobs'].shift(-12) + 500) & (df2['jobs'] > df2['jobs'].shift(12) + 500)]"
   ]
  }
 ],
 "metadata": {
  "kernelspec": {
   "display_name": "Python 2",
   "language": "python",
   "name": "python2"
  },
  "language_info": {
   "codemirror_mode": {
    "name": "ipython",
    "version": 2
   },
   "file_extension": ".py",
   "mimetype": "text/x-python",
   "name": "python",
   "nbconvert_exporter": "python",
   "pygments_lexer": "ipython2",
   "version": "2.7.15"
  }
 },
 "nbformat": 4,
 "nbformat_minor": 2
}
