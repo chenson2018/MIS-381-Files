{
 "cells": [
  {
   "cell_type": "code",
   "execution_count": 1,
   "metadata": {},
   "outputs": [
    {
     "name": "stdout",
     "output_type": "stream",
     "text": [
      "Populating the interactive namespace from numpy and matplotlib\n"
     ]
    }
   ],
   "source": [
    "from pandas import Series, DataFrame\n",
    "import pandas as pd\n",
    "%pylab inline"
   ]
  },
  {
   "cell_type": "code",
   "execution_count": 2,
   "metadata": {},
   "outputs": [
    {
     "data": {
      "text/html": [
       "<div>\n",
       "<style scoped>\n",
       "    .dataframe tbody tr th:only-of-type {\n",
       "        vertical-align: middle;\n",
       "    }\n",
       "\n",
       "    .dataframe tbody tr th {\n",
       "        vertical-align: top;\n",
       "    }\n",
       "\n",
       "    .dataframe thead th {\n",
       "        text-align: right;\n",
       "    }\n",
       "</style>\n",
       "<table border=\"1\" class=\"dataframe\">\n",
       "  <thead>\n",
       "    <tr style=\"text-align: right;\">\n",
       "      <th></th>\n",
       "      <th>Year</th>\n",
       "      <th>Month</th>\n",
       "      <th>jobs</th>\n",
       "    </tr>\n",
       "    <tr>\n",
       "      <th>Date</th>\n",
       "      <th></th>\n",
       "      <th></th>\n",
       "      <th></th>\n",
       "    </tr>\n",
       "  </thead>\n",
       "  <tbody>\n",
       "    <tr>\n",
       "      <th>1939-01-01</th>\n",
       "      <td>1939</td>\n",
       "      <td>Jan</td>\n",
       "      <td>912.0</td>\n",
       "    </tr>\n",
       "    <tr>\n",
       "      <th>1939-02-01</th>\n",
       "      <td>1939</td>\n",
       "      <td>Feb</td>\n",
       "      <td>925.0</td>\n",
       "    </tr>\n",
       "    <tr>\n",
       "      <th>1939-03-01</th>\n",
       "      <td>1939</td>\n",
       "      <td>Mar</td>\n",
       "      <td>929.0</td>\n",
       "    </tr>\n",
       "    <tr>\n",
       "      <th>1939-04-01</th>\n",
       "      <td>1939</td>\n",
       "      <td>Apr</td>\n",
       "      <td>933.0</td>\n",
       "    </tr>\n",
       "    <tr>\n",
       "      <th>1939-05-01</th>\n",
       "      <td>1939</td>\n",
       "      <td>May</td>\n",
       "      <td>941.0</td>\n",
       "    </tr>\n",
       "  </tbody>\n",
       "</table>\n",
       "</div>"
      ],
      "text/plain": [
       "            Year Month   jobs\n",
       "Date                         \n",
       "1939-01-01  1939   Jan  912.0\n",
       "1939-02-01  1939   Feb  925.0\n",
       "1939-03-01  1939   Mar  929.0\n",
       "1939-04-01  1939   Apr  933.0\n",
       "1939-05-01  1939   May  941.0"
      ]
     },
     "execution_count": 2,
     "metadata": {},
     "output_type": "execute_result"
    }
   ],
   "source": [
    "df = pd.read_csv('jobs.csv')\n",
    "df['Date'] = pd.to_datetime(df['Month'] + ' ' + df['Year'].astype(str))\n",
    "df = df.sort_values(by='Date').set_index('Date')\n",
    "df[:5]"
   ]
  },
  {
   "cell_type": "markdown",
   "metadata": {},
   "source": [
    "### Plot the year-over-year (YoY) change in jobs\n",
    "\n",
    "The YoY change for Jan-1940 is the (jobs['Jan 1940'] - jobs['Jan 1939'])*100.0 / jobs['Jan 1939']"
   ]
  },
  {
   "cell_type": "code",
   "execution_count": 3,
   "metadata": {},
   "outputs": [
    {
     "name": "stdout",
     "output_type": "stream",
     "text": [
      "1942-11-01 00:00:00\n"
     ]
    },
    {
     "data": {
      "text/plain": [
       "<matplotlib.axes._subplots.AxesSubplot at 0xbaeda90>"
      ]
     },
     "execution_count": 3,
     "metadata": {},
     "output_type": "execute_result"
    },
    {
     "data": {
      "image/png": "[encoded data removed]",
      "text/plain": [
       "<Figure size 432x288 with 1 Axes>"
      ]
     },
     "metadata": {},
     "output_type": "display_data"
    }
   ],
   "source": [
    "yoy = ((df['jobs'] - df['jobs'].shift(12))*100/df['jobs'].shift(12))\n",
    "print yoy.idxmax()\n",
    "yoy.plot()"
   ]
  },
  {
   "cell_type": "markdown",
   "metadata": {},
   "source": [
    "### Find the months where the YoY change flipped from below 10% to above 10%.\n",
    "\n",
    "If August-1940 had Yoy=9.2% and September-1940 had YoY=10.5%, we will say that September-1940 was the month where YoY flipped up (we call these the \"flip-up\" months).\n",
    "\n",
    "Similarly find the \"flip-down\" months."
   ]
  },
  {
   "cell_type": "code",
   "execution_count": 4,
   "metadata": {},
   "outputs": [
    {
     "name": "stdout",
     "output_type": "stream",
     "text": [
      "            Year Month    jobs\n",
      "Date                          \n",
      "1940-09-01  1940   Sep  1072.0\n",
      "1945-09-01  1945   Sep  2786.0\n",
      "1948-01-01  1948   Jan  1889.0\n",
      "1950-11-01  1950   Nov  2147.0\n",
      "1953-12-01  1953   Dec  2310.0\n",
      "1966-11-01  1966   Nov  2791.0\n",
      "1980-04-01  1980   Apr  3258.0\n",
      "1981-04-01  1981   Apr  2915.0\n",
      "2000-05-01  2000   May  3244.0\n",
      "2001-05-01  2001   May  2758.0\n",
      "2010-05-01  2010   May  3416.0\n",
      "2011-05-01  2011   May  2871.0\n",
      "            Year Month    jobs\n",
      "Date                          \n",
      "1943-11-01  1943   Nov  3050.0\n",
      "1947-12-01  1947   Dec  1948.0\n",
      "1948-03-01  1948   Mar  1884.0\n",
      "1952-03-01  1952   Mar  2515.0\n",
      "1954-01-01  1954   Jan  2329.0\n",
      "1966-12-01  1966   Dec  2799.0\n",
      "1980-05-01  1980   May  3088.0\n",
      "1981-05-01  1981   May  2904.0\n",
      "2000-06-01  2000   Jun  3004.0\n",
      "2001-06-01  2001   Jun  2780.0\n",
      "2010-07-01  2010   Jul  3051.0\n",
      "2011-07-01  2011   Jul  2862.0\n"
     ]
    }
   ],
   "source": [
    "too_high = (yoy>10) | (yoy<-10)\n",
    "up_months = (too_high > too_high.shift(1))\n",
    "down_months = (too_high < too_high.shift(1))\n",
    "print df[up_months]\n",
    "print df[down_months]"
   ]
  },
  {
   "cell_type": "markdown",
   "metadata": {},
   "source": [
    "### Find the periods (in number of days) where YoY remained above 10%.\n",
    "\n",
    "For example, the first up-month is September-1940, and the corresponding down-month is November-1943. This corresponds to 1156 days. The second such period has 821 days, etc. Print out the number of days in each of the periods where YoY was above 10%.\n",
    "\n",
    "* Build a DataFrame of up-months and down-months, so that the up-month and down-month for each period are aligned.\n",
    "    * For example, the first row could be \"1940-09-01\" and \"1943-11-01\" (both as datetime objects)\n",
    "* Now find the number of days in the difference between these two\n",
    "    * If you just do a difference between datetime columns, it will give you the number of days."
   ]
  },
  {
   "cell_type": "code",
   "execution_count": 5,
   "metadata": {},
   "outputs": [
    {
     "data": {
      "text/plain": [
       "0    1156 days\n",
       "1     821 days\n",
       "2      60 days\n",
       "3     486 days\n",
       "4      31 days\n",
       "5      30 days\n",
       "6      30 days\n",
       "7      30 days\n",
       "8      31 days\n",
       "9      31 days\n",
       "10     61 days\n",
       "11     61 days\n",
       "dtype: timedelta64[ns]"
      ]
     },
     "execution_count": 5,
     "metadata": {},
     "output_type": "execute_result"
    }
   ],
   "source": [
    "df2 = DataFrame({'up':df[up_months].index.values, 'down':df[down_months].index.values})\n",
    "df2['down'] - df2['up']"
   ]
  }
 ],
 "metadata": {
  "kernelspec": {
   "display_name": "Python 2",
   "language": "python",
   "name": "python2"
  },
  "language_info": {
   "codemirror_mode": {
    "name": "ipython",
    "version": 2
   },
   "file_extension": ".py",
   "mimetype": "text/x-python",
   "name": "python",
   "nbconvert_exporter": "python",
   "pygments_lexer": "ipython2",
   "version": "2.7.15"
  }
 },
 "nbformat": 4,
 "nbformat_minor": 2
}
