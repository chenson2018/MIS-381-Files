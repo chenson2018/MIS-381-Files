{
 "cells": [
  {
   "cell_type": "code",
   "execution_count": 1,
   "metadata": {},
   "outputs": [
    {
     "name": "stdout",
     "output_type": "stream",
     "text": [
      "Populating the interactive namespace from numpy and matplotlib\n"
     ]
    }
   ],
   "source": [
    "from pandas import Series, DataFrame\n",
    "import pandas as pd\n",
    "%pylab inline"
   ]
  },
  {
   "cell_type": "markdown",
   "metadata": {},
   "source": [
    "### Read in pizza.csv and print the first row."
   ]
  },
  {
   "cell_type": "code",
   "execution_count": null,
   "metadata": {},
   "outputs": [],
   "source": []
  },
  {
   "cell_type": "markdown",
   "metadata": {},
   "source": [
    "### Plot the top 10 most common pizzas.\n",
    "Look at *menus.name*."
   ]
  },
  {
   "cell_type": "code",
   "execution_count": null,
   "metadata": {},
   "outputs": [],
   "source": []
  },
  {
   "cell_type": "markdown",
   "metadata": {},
   "source": [
    "### Plot the top 10 cities with the most pizza items.\n",
    "The x-axis should be the city, and the y-axis the number of menu items that show up in this city (i.e., the number of rows corresponding to this city)."
   ]
  },
  {
   "cell_type": "code",
   "execution_count": null,
   "metadata": {},
   "outputs": [],
   "source": []
  },
  {
   "cell_type": "markdown",
   "metadata": {},
   "source": [
    "### Find the cheapest pizza (anywhere!)\n",
    "\n",
    "Look at the *menus.amountMin* field, but ignore rows where *menus.amountMin = 0* (because there's no such thing as a free pizza; it's probably just missing data)."
   ]
  },
  {
   "cell_type": "code",
   "execution_count": null,
   "metadata": {},
   "outputs": [],
   "source": []
  },
  {
   "cell_type": "markdown",
   "metadata": {},
   "source": [
    "### Find the top 10 restaurants (or chains) with the biggest menus (i.e., they serve the most distinct pizzas).\n",
    "\n",
    "A restaurant or a chain has a *name*, and serves a pizza of type *menus.name*. You want to count the number of unique *menus.name* for each *name*, and pick the top 10 *names* with the most menu options.\n",
    "\n",
    "Note: You may see multiple rows where **name = Sicilia's Pizza** (say) and **menus.name = Cheese Pizza**. This probably means Sicilia's pizza is a chain. We **don't** want to count Cheese Pizza twice when counting the menu size for Sicilia's Pizza."
   ]
  },
  {
   "cell_type": "code",
   "execution_count": null,
   "metadata": {},
   "outputs": [],
   "source": []
  }
 ],
 "metadata": {
  "kernelspec": {
   "display_name": "Python 2",
   "language": "python",
   "name": "python2"
  },
  "language_info": {
   "codemirror_mode": {
    "name": "ipython",
    "version": 2
   },
   "file_extension": ".py",
   "mimetype": "text/x-python",
   "name": "python",
   "nbconvert_exporter": "python",
   "pygments_lexer": "ipython2",
   "version": "2.7.15"
  }
 },
 "nbformat": 4,
 "nbformat_minor": 2
}
